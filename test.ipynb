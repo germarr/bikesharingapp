{
 "cells": [
  {
   "cell_type": "code",
   "execution_count": 2,
   "source": [
    "import pandas as pd\n",
    "import numpy as np\n",
    "import geopy.distance"
   ],
   "outputs": [],
   "metadata": {}
  },
  {
   "cell_type": "markdown",
   "source": [
    "## Cleaning Monthly Data"
   ],
   "metadata": {}
  },
  {
   "cell_type": "code",
   "execution_count": 3,
   "source": [
    "df=pd.read_csv('./ecobicidata/2021-07.csv')"
   ],
   "outputs": [],
   "metadata": {}
  },
  {
   "cell_type": "code",
   "execution_count": 4,
   "source": [
    "def transform_df(ene=df):\n",
    "    ene[\"full_date_retiro\"] = pd.to_datetime(ene[\"Fecha_Retiro\"] + \" \" + ene[\"Hora_Retiro\"], format=\"%d/%m/%Y %H:%M:%S\").copy()\n",
    "    ene[\"full_date_aribo\"] = pd.to_datetime(ene[\"Fecha Arribo\"] + \" \" + ene[\"Hora_Arribo\"], format=\"%d/%m/%Y %H:%M:%S\").copy()\n",
    "    ene[\"Mes\"] = ene[\"full_date_retiro\"].dt.month\n",
    "    ene[\"Hora\"] = ene[\"full_date_retiro\"].dt.hour\n",
    "    ene[\"time_delta\"] = round((ene[\"full_date_aribo\"]  - ene[\"full_date_retiro\"]) / np.timedelta64(1,\"m\"),2)\n",
    "    ene[\"Ciclo_Estacion_Retiro\"]= ene[[\"Ciclo_Estacion_Retiro\"]].astype(str)\n",
    "    ene[\"Ciclo_Estacion_Retiro\"] = [i[:-2] for i in ene[\"Ciclo_Estacion_Retiro\"]]\n",
    "    ene[\"Bici\"]= ene[[\"Bici\"]].astype(str)\n",
    "    ene[\"Bici\"] = [i[:-2] for i in ene[\"Bici\"]]\n",
    "    ene[\"viaje\"] = ene[\"Ciclo_Estacion_Retiro\"].astype(str)+\"-\"+ene[\"Ciclo_EstacionArribo\"].astype(str)\n",
    "    return ene.iloc[:,[0,1,2,3,6,9,10,11,12,13,14]]"
   ],
   "outputs": [],
   "metadata": {}
  },
  {
   "cell_type": "code",
   "execution_count": 5,
   "source": [
    "ene = transform_df(ene=df)"
   ],
   "outputs": [],
   "metadata": {}
  },
  {
   "cell_type": "markdown",
   "source": [
    "## Cleaning Station Data"
   ],
   "metadata": {}
  },
  {
   "cell_type": "code",
   "execution_count": 6,
   "source": [
    "estaciones = pd.read_csv(\"./ecobicidata/estaciones-de-ecobici.csv\")[[\"id\",\"name\",\"districtcode\",\"districtname\",\"location_lat\",\"location_lon\",\"stationtype\",\"punto_geo\"]]\n",
    "estaciones[\"Ciclo_Estacion_Retiro\"] = estaciones[\"id\"].astype(str).copy()\n",
    "estaciones[\"Ciclo_EstacionArribo\"] = estaciones[\"id\"].copy()\n",
    "estaciones_retiro = estaciones.iloc[:,[-2,1,2,3,4,5,6,7]].rename(columns={\"name\":\"name_retiro\",\"districtcode\":\"districtcode_retiro\",\"districtname\":\"districtname_retiro\",\"location_lat\":\"location_lat_retiro\",\"location_lon\":\"location_lon_retiro\",\"stationtype\":\"stationtype_retiro\",\"punto_geo\":\"punto_geo_retiro\"}).copy().iloc[:,[0,1,4,5,7]]\n",
    "estaciones_arribo = estaciones.iloc[:,[-1,1,2,3,4,5,6,7]].rename(columns={\"name\":\"name_arribo\",\"districtcode\":\"districtcode_arribo\",\"districtname\":\"districtname_arribo\",\"location_lat\":\"location_lat_arribo\",\"location_lon\":\"location_lon_arribo\",\"stationtype\":\"stationtype_arribo\",\"punto_geo\":\"punto_geo_arribo\"}).copy().iloc[:,[0,1,4,5,7]]"
   ],
   "outputs": [],
   "metadata": {}
  },
  {
   "cell_type": "code",
   "execution_count": 7,
   "source": [
    "first = ene.merge(estaciones_retiro, on=\"Ciclo_Estacion_Retiro\", how=\"left\").merge(estaciones_arribo, on=\"Ciclo_EstacionArribo\", how=\"left\")"
   ],
   "outputs": [],
   "metadata": {}
  },
  {
   "cell_type": "code",
   "execution_count": 33,
   "source": [
    "location_lat_retiro = first[\"location_lat_retiro\"].fillna('19.412182').to_list()\n",
    "location_lon_retiro = first[\"location_lon_retiro\"].fillna('19.412182').to_list()\n",
    "location_lat_arribo = first[\"location_lat_arribo\"].fillna('19.412182').to_list()\n",
    "location_lon_arribo = first[\"location_lon_arribo\"].fillna('19.412182').to_list()\n",
    "\n",
    "distances = pd.DataFrame({\"location_dist\":[geopy.distance.distance((location_lat_retiro[i],location_lon_retiro[i]), (location_lat_arribo[i],location_lon_arribo[i])).km for i in range(len(location_lon_arribo))]})\n",
    "\n",
    "#location_list=[]\n",
    "# for i in range(20):\n",
    "#     coords_1=(location_lat_retiro[i],location_lon_retiro[i])\n",
    "#     coords_2=(location_lat_arribo[i],location_lon_arribo[i])\n",
    "#     location_list.append(geopy.distance.distance(coords_1, coords_2).km)\n",
    "\n",
    "# pd.DataFrame({\"location_dist\":location_list})\n",
    "\n",
    "# coords_1 = (19.412182, -99.158443)\n",
    "# coords_2 = (19.40472, 19.40472)\n",
    "\n",
    "# print(geopy.distance.distance(coords_1, coords_2).km)"
   ],
   "outputs": [],
   "metadata": {}
  },
  {
   "cell_type": "code",
   "execution_count": 28,
   "source": [
    "test_head = first.head(20).copy()\n"
   ],
   "outputs": [
    {
     "output_type": "stream",
     "name": "stdout",
     "text": [
      "20\n"
     ]
    }
   ],
   "metadata": {}
  },
  {
   "cell_type": "code",
   "execution_count": 34,
   "source": [
    "l = pd.concat([first, distances], axis=1, join=\"inner\").to_csv('./ecobicidata/2021_jul.csv')"
   ],
   "outputs": [],
   "metadata": {}
  },
  {
   "cell_type": "code",
   "execution_count": null,
   "source": [],
   "outputs": [],
   "metadata": {}
  }
 ],
 "metadata": {
  "orig_nbformat": 4,
  "language_info": {
   "name": "python",
   "version": "3.7.9",
   "mimetype": "text/x-python",
   "codemirror_mode": {
    "name": "ipython",
    "version": 3
   },
   "pygments_lexer": "ipython3",
   "nbconvert_exporter": "python",
   "file_extension": ".py"
  },
  "kernelspec": {
   "name": "python3",
   "display_name": "Python 3.7.9 64-bit ('env': venv)"
  },
  "interpreter": {
   "hash": "166e22c84637cf51f235873a2d780a99c2ec1350eac62abd1f2138f600ac821b"
  }
 },
 "nbformat": 4,
 "nbformat_minor": 2
}