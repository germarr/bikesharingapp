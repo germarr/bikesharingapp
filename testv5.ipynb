{
 "cells": [
  {
   "cell_type": "code",
   "execution_count": 10,
   "source": [
    "import pandas as pd\n",
    "import numpy as np\n",
    "import geopy.distance"
   ],
   "outputs": [],
   "metadata": {}
  },
  {
   "cell_type": "code",
   "execution_count": 87,
   "source": [
    "df = pd.read_csv(\"./ecobicidata/ecobici_mar_resume.csv\")\n",
    "name_of_files = [\"jan\",\"feb\",\"mar\",\"apr\",\"may\",\"jun\",\"jul\"]\n",
    "fulldf = pd.concat([pd.read_csv(f\"./ecobicidata/ecobici_{x}.csv\") for i,x in enumerate(name_of_files)])"
   ],
   "outputs": [],
   "metadata": {}
  },
  {
   "cell_type": "code",
   "execution_count": 19,
   "source": [
    "def estaciones_df():\n",
    "    estaciones = pd.read_csv(\"./ecobicidata/estaciones-de-ecobici.csv\")[[\"id\",\"name\",\"districtcode\",\"districtname\",\"location_lat\",\"location_lon\",\"stationtype\",\"punto_geo\"]]\n",
    "    estaciones[\"Ciclo_Estacion_Retiro\"] = estaciones[\"id\"].astype(\"str\").copy()\n",
    "    estaciones[\"Ciclo_EstacionArribo\"] = estaciones[\"id\"].copy()\n",
    "    estaciones_retiro = estaciones.iloc[:,[-2,1,2,3,4,5,6,7]].rename(columns={\"name\":\"name_retiro\",\"districtcode\":\"districtcode_retiro\",\"districtname\":\"districtname_retiro\",\"location_lat\":\"location_lat_retiro\",\"location_lon\":\"location_lon_retiro\",\"stationtype\":\"stationtype_retiro\",\"punto_geo\":\"punto_geo_retiro\"}).copy().iloc[:,[0,1,4,5,7]]\n",
    "    estaciones_arribo = estaciones.iloc[:,[-1,1,2,3,4,5,6,7]].rename(columns={\"name\":\"name_arribo\",\"districtcode\":\"districtcode_arribo\",\"districtname\":\"districtname_arribo\",\"location_lat\":\"location_lat_arribo\",\"location_lon\":\"location_lon_arribo\",\"stationtype\":\"stationtype_arribo\",\"punto_geo\":\"punto_geo_arribo\"}).copy().iloc[:,[0,1,4,5,7]]\n",
    "    return estaciones_retiro, estaciones_arribo\n",
    "\n",
    "estaciones_retiro, estaciones_arribo = estaciones_df()"
   ],
   "outputs": [],
   "metadata": {}
  },
  {
   "cell_type": "code",
   "execution_count": 90,
   "source": [
    "def mergingfiles(month, er, ea):\n",
    "    first = month.merge(er, on=\"Ciclo_Estacion_Retiro\", how=\"left\").merge(ea, on=\"Ciclo_EstacionArribo\", how=\"left\")\n",
    "    return first\n",
    "\n",
    "exportfileI = mergingfiles(month=fulldf, er=estaciones_retiro, ea=estaciones_arribo)"
   ],
   "outputs": [],
   "metadata": {}
  },
  {
   "cell_type": "code",
   "execution_count": 21,
   "source": [
    "def filetoexport(first):\n",
    "    location_lat_retiro = first[\"location_lat_retiro\"].fillna('19.412182').to_list()\n",
    "    location_lon_retiro = first[\"location_lon_retiro\"].fillna('19.412182').to_list()\n",
    "    location_lat_arribo = first[\"location_lat_arribo\"].fillna('19.412182').to_list()\n",
    "    location_lon_arribo = first[\"location_lon_arribo\"].fillna('19.412182').to_list()\n",
    "\n",
    "    distances = pd.DataFrame({\"location_dist\":[geopy.distance.distance((location_lat_retiro[i],location_lon_retiro[i]), (location_lat_arribo[i],location_lon_arribo[i])).km for i in range(len(location_lon_arribo))]})\n",
    "    \n",
    "    l = pd.concat([first, distances], axis=1, join=\"inner\").iloc[:,[0,1,2,3,4,5,6,7,8,9,10,11,12,13,15,16,17,19]]\n",
    "    l[\"Genero_Usuario\"] = l[\"Genero_Usuario\"].fillna(\"X\")\n",
    "    return l\n",
    "\n",
    "lI = filetoexport(first=exportfileI)"
   ],
   "outputs": [],
   "metadata": {}
  },
  {
   "cell_type": "code",
   "execution_count": null,
   "source": [],
   "outputs": [],
   "metadata": {}
  },
  {
   "cell_type": "code",
   "execution_count": 190,
   "source": [
    "efile = exportfileI.replace(\"\",np.nan).dropna(axis=0)\n",
    "\n",
    "# Top Bike\n",
    "def top_bike(efile=efile):\n",
    "    top_bike = efile[[\"Bici\"]].groupby(\"Bici\").size().reset_index().sort_values(by=0, ascending=False)[\"Bici\"].to_list()[0]\n",
    "    bike = efile.loc[ efile[\"Bici\"]==top_bike]\n",
    "    trips_per_month = bike[[\"Mes\"]].groupby(\"Mes\").size().reset_index().set_index(\"Mes\").rename(columns={0:\"Trips\"}).transpose().to_dict()\n",
    "    \n",
    "    location_lat_retiro = bike[\"location_lat_retiro\"].fillna('19.412182').to_list()\n",
    "    location_lon_retiro = bike[\"location_lon_retiro\"].fillna('19.412182').to_list()\n",
    "    location_lat_arribo = bike[\"location_lat_arribo\"].fillna('19.412182').to_list()\n",
    "    location_lon_arribo = bike[\"location_lon_arribo\"].fillna('19.412182').to_list()\n",
    "\n",
    "    distances = pd.DataFrame({\"location_dist\":[geopy.distance.distance((location_lat_retiro[i],location_lon_retiro[i]), (location_lat_arribo[i],location_lon_arribo[i])).km for i in range(len(location_lon_arribo))]})\n",
    "    \n",
    "    last_trips = bike.sort_values(by=\"Fecha_Retiro\").tail(100)[[\"Fecha_Retiro\",\"viaje\",\"location_lat_retiro\", \"location_lon_retiro\",\"location_lat_arribo\",\"location_lon_arribo\"]].set_index(\"viaje\").transpose().to_dict()\n",
    "    \n",
    "    topBike={\n",
    "        \"trips_per_moth\":trips_per_month,\n",
    "        \"total_km\":int(distances.sum()),\n",
    "        \"last_trips\":last_trips\n",
    "    }\n",
    "\n",
    "    return topBike\n",
    "\n",
    "topBike = top_bike()    "
   ],
   "outputs": [],
   "metadata": {}
  },
  {
   "cell_type": "code",
   "execution_count": 157,
   "source": [
    "all_yearsample = pd.read_csv(\"./ecobicidata/allyear.csv\", index_col=0)"
   ],
   "outputs": [],
   "metadata": {}
  },
  {
   "cell_type": "code",
   "execution_count": 192,
   "source": [
    "full_year_dataI={\n",
    "    \"trips_per_month\":efile[[\"Mes\"]].groupby(\"Mes\").size().reset_index().set_index(\"Mes\").rename(columns={0:\"Trips\"}).transpose().to_dict(),\n",
    "    \"age_distribution\":efile[[\"Edad_Usuario\"]].groupby(\"Edad_Usuario\").size().reset_index().set_index(\"Edad_Usuario\").rename(columns={0:\"Trips\"}).transpose().to_dict(),\n",
    "    \"median_trip_time\":efile[\"time_delta\"].median(),\n",
    "    \"total_trips\":len(efile),\n",
    "    \"median_trips_per_bike\":efile[[\"Bici\"]].groupby(\"Bici\").size().reset_index()[0].median(),\n",
    "    \"top_100_trips\":efile[[\"name_arribo\",\"name_retiro\",\"viaje\"]].groupby([\"name_arribo\",\"name_retiro\",\"viaje\"]).size().reset_index().set_index(\"viaje\").sort_values(by=0,ascending=False).head(100).transpose().to_dict(),\n",
    "    \"avg_km_per_trip\":round(all_yearsample[\"location_dist\"].median(),2),\n",
    "    \"avg_time_per_trip_per_year\":all_yearsample[[\"Mes\",\"time_delta\"]].groupby(\"Mes\").median().reset_index().set_index(\"Mes\").transpose().to_dict(),\n",
    "    \"avg_time_delta\":all_yearsample[[\"Mes\",\"time_delta\"]].groupby(\"Mes\").median().reset_index().set_index(\"Mes\")[\"time_delta\"].median(),\n",
    "    \"topBike\":topBike\n",
    "}"
   ],
   "outputs": [],
   "metadata": {}
  },
  {
   "cell_type": "code",
   "execution_count": 194,
   "source": [
    "import json\n",
    "with open(\"./app/sample.json\", \"w\") as outfile:\n",
    "    json.dump(full_year_dataI, outfile)"
   ],
   "outputs": [],
   "metadata": {}
  }
 ],
 "metadata": {
  "orig_nbformat": 4,
  "language_info": {
   "name": "python",
   "version": "3.7.9",
   "mimetype": "text/x-python",
   "codemirror_mode": {
    "name": "ipython",
    "version": 3
   },
   "pygments_lexer": "ipython3",
   "nbconvert_exporter": "python",
   "file_extension": ".py"
  },
  "kernelspec": {
   "name": "python3",
   "display_name": "Python 3.7.9 64-bit ('env': venv)"
  },
  "interpreter": {
   "hash": "166e22c84637cf51f235873a2d780a99c2ec1350eac62abd1f2138f600ac821b"
  }
 },
 "nbformat": 4,
 "nbformat_minor": 2
}