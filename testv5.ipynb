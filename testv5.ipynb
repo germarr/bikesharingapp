{
 "cells": [
  {
   "cell_type": "code",
   "execution_count": 1,
   "source": [
    "import pandas as pd\n",
    "import numpy as np\n",
    "import geopy.distance"
   ],
   "outputs": [],
   "metadata": {}
  },
  {
   "cell_type": "code",
   "execution_count": 3,
   "source": [
    "df = pd.read_csv(\"./ecobicidata/ecobici_mar_resume.csv\")\n",
    "name_of_files = [\"jan\",\"feb\",\"mar\",\"apr\",\"may\",\"jun\",\"jul\"]\n",
    "fulldf = pd.concat([pd.read_csv(f\"./ecobicidata/ecobici_{x}.csv\") for i,x in enumerate(name_of_files)])"
   ],
   "outputs": [],
   "metadata": {}
  },
  {
   "cell_type": "code",
   "execution_count": 4,
   "source": [
    "def transform_df(ene = fulldf):\n",
    "    ene[\"full_date_retiro\"] = pd.to_datetime(ene[\"Fecha_Retiro\"] + \" \" + ene[\"Hora_Retiro\"], format=\"%d/%m/%Y %H:%M:%S\").copy()\n",
    "    ene[\"full_date_aribo\"] = pd.to_datetime(ene[\"Fecha_Arribo\"] + \" \" + ene[\"Hora_Arribo\"], format=\"%d/%m/%Y %H:%M:%S\").copy()\n",
    "    ene[\"Mes\"] = ene[\"full_date_retiro\"].dt.month\n",
    "    ene[\"Hora\"] = ene[\"full_date_retiro\"].dt.hour\n",
    "    ene[\"time_delta\"] = round((ene[\"full_date_aribo\"]  - ene[\"full_date_retiro\"]) / np.timedelta64(1,\"m\"),2)\n",
    "    ene[\"Ciclo_Estacion_Retiro\"]= ene[[\"Ciclo_Estacion_Retiro\"]].astype(str)\n",
    "    ene[\"Ciclo_Estacion_Retiro\"] = [i[:-2] for i in ene[\"Ciclo_Estacion_Retiro\"]]\n",
    "    ene[\"Bici\"]= ene[[\"Bici\"]].astype(str)\n",
    "    ene[\"Bici\"] = [i[:-2] for i in ene[\"Bici\"]]\n",
    "    ene[\"Ciclo_EstacionArribo\"] = ene[\"Ciclo_EstacionArribo\"].astype(str)\n",
    "    ene[\"viaje\"] = ene[\"Ciclo_Estacion_Retiro\"].astype(str)+\"-\"+ene[\"Ciclo_EstacionArribo\"]\n",
    "    ene[\"Genero_Usuario\"] = ene[\"Genero_Usuario\"].fillna(\"X\")\n",
    "    ene = ene.dropna(axis=0).copy()\n",
    "    return ene\n",
    "\n",
    "df = transform_df()"
   ],
   "outputs": [],
   "metadata": {}
  },
  {
   "cell_type": "code",
   "execution_count": 5,
   "source": [
    "def estaciones_df():\n",
    "    estaciones = pd.read_csv(\"./ecobicidata/estaciones-de-ecobici.csv\")[[\"id\",\"name\",\"districtcode\",\"districtname\",\"location_lat\",\"location_lon\",\"stationtype\",\"punto_geo\"]]\n",
    "    estaciones[\"Ciclo_Estacion_Retiro\"] = estaciones[\"id\"].astype(\"str\").copy()\n",
    "    estaciones[\"Ciclo_EstacionArribo\"] = estaciones[\"id\"].astype(\"str\").copy()\n",
    "    estaciones_retiro = estaciones.iloc[:,[-2,1,2,3,4,5,6,7]].rename(columns={\"name\":\"name_retiro\",\"districtcode\":\"districtcode_retiro\",\"districtname\":\"districtname_retiro\",\"location_lat\":\"location_lat_retiro\",\"location_lon\":\"location_lon_retiro\",\"stationtype\":\"stationtype_retiro\",\"punto_geo\":\"punto_geo_retiro\"}).copy().iloc[:,[0,1,4,5,7]]\n",
    "    estaciones_arribo = estaciones.iloc[:,[-1,1,2,3,4,5,6,7]].rename(columns={\"name\":\"name_arribo\",\"districtcode\":\"districtcode_arribo\",\"districtname\":\"districtname_arribo\",\"location_lat\":\"location_lat_arribo\",\"location_lon\":\"location_lon_arribo\",\"stationtype\":\"stationtype_arribo\",\"punto_geo\":\"punto_geo_arribo\"}).copy().iloc[:,[0,1,4,5,7]]\n",
    "    return estaciones_retiro, estaciones_arribo\n",
    "\n",
    "estaciones_retiro, estaciones_arribo = estaciones_df()"
   ],
   "outputs": [],
   "metadata": {}
  },
  {
   "cell_type": "code",
   "execution_count": 6,
   "source": [
    "def mergingfiles(month, er, ea):\n",
    "    first = month.merge(er, on=\"Ciclo_Estacion_Retiro\", how=\"left\").merge(ea, on=\"Ciclo_EstacionArribo\", how=\"left\")\n",
    "    return first\n",
    "\n",
    "exportfileI = mergingfiles(month=df, er=estaciones_retiro, ea=estaciones_arribo)"
   ],
   "outputs": [],
   "metadata": {}
  },
  {
   "cell_type": "code",
   "execution_count": 18,
   "source": [
    "def filetoexport(first):\n",
    "    location_lat_retiro = first[\"location_lat_retiro\"].fillna('19.412182').to_list()\n",
    "    location_lon_retiro = first[\"location_lon_retiro\"].fillna('19.412182').to_list()\n",
    "    location_lat_arribo = first[\"location_lat_arribo\"].fillna('19.412182').to_list()\n",
    "    location_lon_arribo = first[\"location_lon_arribo\"].fillna('19.412182').to_list()\n",
    "\n",
    "    distances = pd.DataFrame({\"location_dist\":[geopy.distance.distance((location_lat_retiro[i],location_lon_retiro[i]), (location_lat_arribo[i],location_lon_arribo[i])).km for i in range(len(location_lon_arribo))]})\n",
    "    \n",
    "    l = pd.concat([first, distances], axis=1, join=\"inner\")\n",
    "    l[\"Genero_Usuario\"] = l[\"Genero_Usuario\"].fillna(\"X\")\n",
    "    return l\n",
    "\n",
    "lI = filetoexport(first=exportfileI.sample(350000))"
   ],
   "outputs": [],
   "metadata": {}
  },
  {
   "cell_type": "code",
   "execution_count": 9,
   "source": [
    "efile = exportfileI.replace(\"\",np.nan).dropna(axis=0)"
   ],
   "outputs": [],
   "metadata": {}
  },
  {
   "cell_type": "code",
   "execution_count": 72,
   "source": [
    "top_bike = efile[[\"Bici\"]].groupby(\"Bici\").size().reset_index().sort_values(by=0, ascending=False)[\"Bici\"].to_list()[0]\n",
    "bike = efile.loc[ efile[\"Bici\"]==top_bike]"
   ],
   "outputs": [],
   "metadata": {}
  },
  {
   "cell_type": "code",
   "execution_count": 90,
   "source": [
    "# Top Bike\n",
    "def top_bike(efile=efile):\n",
    "    top_bike = efile[[\"Bici\"]].groupby(\"Bici\").size().reset_index().sort_values(by=0, ascending=False)[\"Bici\"].to_list()[0]\n",
    "    bike = efile.loc[ efile[\"Bici\"]==top_bike]\n",
    "    trips_per_month = bike[[\"Mes\"]].groupby(\"Mes\").size().reset_index().set_index(\"Mes\").rename(columns={0:\"Trips\"}).transpose().to_dict()\n",
    "    \n",
    "    location_lat_retiro = bike[\"location_lat_retiro\"].fillna('19.412182').to_list()\n",
    "    location_lon_retiro = bike[\"location_lon_retiro\"].fillna('19.412182').to_list()\n",
    "    location_lat_arribo = bike[\"location_lat_arribo\"].fillna('19.412182').to_list()\n",
    "    location_lon_arribo = bike[\"location_lon_arribo\"].fillna('19.412182').to_list()\n",
    "\n",
    "    distances = pd.DataFrame({\"location_dist\":[geopy.distance.distance((location_lat_retiro[i],location_lon_retiro[i]), (location_lat_arribo[i],location_lon_arribo[i])).km for i in range(len(location_lon_arribo))]})\n",
    "    \n",
    "    last_trips = bike.sort_values(by=\"Fecha_Retiro\").tail(100)[[\"Fecha_Retiro\",\"viaje\",\"location_lat_retiro\", \"location_lon_retiro\",\"location_lat_arribo\",\"location_lon_arribo\"]].reset_index()\n",
    "    trips_dict = last_trips.transpose().to_dict()\n",
    "\n",
    "    lastbiketrips = [{\n",
    "    \"location_lat_retiro\":trips_dict[i][\"location_lat_retiro\"],\n",
    "    \"location_lon_retiro\":trips_dict[i][\"location_lon_retiro\"],\n",
    "    \"location_lat_arribo\":trips_dict[i][\"location_lat_arribo\"],\n",
    "    \"location_lon_arribo\":trips_dict[i][\"location_lon_arribo\"],\n",
    "    } for i in range(len(trips_dict))]\n",
    "\n",
    "    topBike={\n",
    "        \"trips_per_moth\":trips_per_month,\n",
    "        \"total_km\":int(distances.sum()),\n",
    "        \"last_trips\":lastbiketrips\n",
    "    }\n",
    "\n",
    "    return topBike\n",
    "\n",
    "topBike = top_bike()    "
   ],
   "outputs": [],
   "metadata": {}
  },
  {
   "cell_type": "code",
   "execution_count": 241,
   "source": [
    "listofhundredtrips = efile[[\"name_arribo\",\"name_retiro\",\"viaje\"]].groupby([\"name_arribo\",\"name_retiro\",\"viaje\"]).size().reset_index().set_index(\"viaje\").sort_values(by=0,ascending=False).head(100).reset_index()\n",
    "\n",
    "last_dict = listofhundredtrips.transpose().to_dict()\n",
    "\n",
    "finaltrips = [{\n",
    "    \"name_arribo\":last_dict[i][\"name_arribo\"],\n",
    "    \"name_retiro\":last_dict[i][\"name_retiro\"],\n",
    "    \"viaje\":last_dict[i][0]\n",
    "    } for i in range(len(last_dict))]"
   ],
   "outputs": [
    {
     "output_type": "execute_result",
     "data": {
      "text/plain": [
       "{'location_lat_retiro': 19.391323,\n",
       " 'location_lon_retiro': -99.15936,\n",
       " 'location_lat_arribo': 19.391323,\n",
       " 'location_lon_arribo': -99.15936}"
      ]
     },
     "metadata": {},
     "execution_count": 241
    }
   ],
   "metadata": {}
  },
  {
   "cell_type": "code",
   "execution_count": 157,
   "source": [
    "all_yearsample = pd.read_csv(\"./ecobicidata/allyear.csv\", index_col=0)"
   ],
   "outputs": [],
   "metadata": {}
  },
  {
   "cell_type": "code",
   "execution_count": 270,
   "source": [
    "full_year_dataI={\n",
    "    \"trips_per_month\":efile[[\"Mes\"]].groupby(\"Mes\").size().reset_index().set_index(\"Mes\").rename(columns={0:\"Trips\"}).transpose().to_dict(),\n",
    "    \"age_distribution\":{\n",
    "        \"age\":efile[[\"Edad_Usuario\"]].groupby(\"Edad_Usuario\").size().reset_index().set_index(\"Edad_Usuario\").rename(columns={0:\"Trips\"}).reset_index()[\"Edad_Usuario\"].to_list(),\n",
    "        \"trips\":efile[[\"Edad_Usuario\"]].groupby(\"Edad_Usuario\").size().reset_index().set_index(\"Edad_Usuario\").rename(columns={0:\"Trips\"}).reset_index()[\"Trips\"].to_list()\n",
    "    },\n",
    "    \"median_trip_time\":efile[\"time_delta\"].median(),\n",
    "    \"total_trips\":len(efile),\n",
    "    \"median_trips_per_bike\":efile[[\"Bici\"]].groupby(\"Bici\").size().reset_index()[0].median(),\n",
    "    \"top_100_trips\":{\n",
    "        \"name_arribo\":efile[[\"name_arribo\",\"name_retiro\",\"viaje\"]].groupby([\"name_arribo\",\"name_retiro\",\"viaje\"]).size().reset_index().set_index(\"viaje\").sort_values(by=0,ascending=False).head(100)[\"name_arribo\"].to_list(),\n",
    "        \"name_retiro\":efile[[\"name_arribo\",\"name_retiro\",\"viaje\"]].groupby([\"name_arribo\",\"name_retiro\",\"viaje\"]).size().reset_index().set_index(\"viaje\").sort_values(by=0,ascending=False).head(100)[\"name_retiro\"].to_list(),\n",
    "        \"num_of_trips\":efile[[\"name_arribo\",\"name_retiro\",\"viaje\"]].groupby([\"name_arribo\",\"name_retiro\",\"viaje\"]).size().reset_index().set_index(\"viaje\").sort_values(by=0,ascending=False).head(100)[0].to_list(),\n",
    "        \"dict_of_trips\":finaltrips\n",
    "    },\n",
    "    \"avg_km_per_trip\":round(all_yearsample[\"location_dist\"].median(),2),\n",
    "    \"avg_time_per_trip_per_year\":all_yearsample[[\"Mes\",\"time_delta\"]].groupby(\"Mes\").median().reset_index().set_index(\"Mes\").transpose().to_dict(),\n",
    "    \"avg_time_delta\":all_yearsample[[\"Mes\",\"time_delta\"]].groupby(\"Mes\").median().reset_index().set_index(\"Mes\")[\"time_delta\"].median(),\n",
    "    \"topBike\":topBike\n",
    "}"
   ],
   "outputs": [],
   "metadata": {}
  },
  {
   "cell_type": "code",
   "execution_count": 51,
   "source": [
    "import json\n",
    "# with open(\"./app/sample5.json\", \"w\") as outfile:\n",
    "#     json.dump(full_year_dataI, outfile)"
   ],
   "outputs": [],
   "metadata": {}
  },
  {
   "cell_type": "code",
   "execution_count": 1,
   "source": [
    "efile[[\"Mes\"]].groupby(\"Mes\").size().reset_index().set_index(\"Mes\").rename(columns={0:\"Trips\"}).transpose().to_dict()"
   ],
   "outputs": [
    {
     "output_type": "error",
     "ename": "NameError",
     "evalue": "name 'efile' is not defined",
     "traceback": [
      "\u001b[0;31m---------------------------------------------------------------------------\u001b[0m",
      "\u001b[0;31mNameError\u001b[0m                                 Traceback (most recent call last)",
      "\u001b[0;32m/var/folders/vs/wm3fnb_j1dlfrb4ngx6mk7c00000gn/T/ipykernel_73140/2595491589.py\u001b[0m in \u001b[0;36m<module>\u001b[0;34m\u001b[0m\n\u001b[0;32m----> 1\u001b[0;31m \u001b[0mefile\u001b[0m\u001b[0;34m[\u001b[0m\u001b[0;34m[\u001b[0m\u001b[0;34m\"Mes\"\u001b[0m\u001b[0;34m]\u001b[0m\u001b[0;34m]\u001b[0m\u001b[0;34m.\u001b[0m\u001b[0mgroupby\u001b[0m\u001b[0;34m(\u001b[0m\u001b[0;34m\"Mes\"\u001b[0m\u001b[0;34m)\u001b[0m\u001b[0;34m.\u001b[0m\u001b[0msize\u001b[0m\u001b[0;34m(\u001b[0m\u001b[0;34m)\u001b[0m\u001b[0;34m.\u001b[0m\u001b[0mreset_index\u001b[0m\u001b[0;34m(\u001b[0m\u001b[0;34m)\u001b[0m\u001b[0;34m.\u001b[0m\u001b[0mset_index\u001b[0m\u001b[0;34m(\u001b[0m\u001b[0;34m\"Mes\"\u001b[0m\u001b[0;34m)\u001b[0m\u001b[0;34m.\u001b[0m\u001b[0mrename\u001b[0m\u001b[0;34m(\u001b[0m\u001b[0mcolumns\u001b[0m\u001b[0;34m=\u001b[0m\u001b[0;34m{\u001b[0m\u001b[0;36m0\u001b[0m\u001b[0;34m:\u001b[0m\u001b[0;34m\"Trips\"\u001b[0m\u001b[0;34m}\u001b[0m\u001b[0;34m)\u001b[0m\u001b[0;34m.\u001b[0m\u001b[0mtranspose\u001b[0m\u001b[0;34m(\u001b[0m\u001b[0;34m)\u001b[0m\u001b[0;34m.\u001b[0m\u001b[0mto_dict\u001b[0m\u001b[0;34m(\u001b[0m\u001b[0;34m)\u001b[0m\u001b[0;34m\u001b[0m\u001b[0;34m\u001b[0m\u001b[0m\n\u001b[0m",
      "\u001b[0;31mNameError\u001b[0m: name 'efile' is not defined"
     ]
    }
   ],
   "metadata": {}
  },
  {
   "cell_type": "code",
   "execution_count": 53,
   "source": [
    "top_station_trips = efile.loc[efile['Ciclo_Estacion_Retiro']=='1'][['location_lat_retiro','location_lon_retiro','location_lat_arribo','location_lon_arribo']]\n",
    "tripsofstation = top_station_trips.sample(100).reset_index().transpose().to_dict()\n",
    "\n",
    "topStationDict = [{\n",
    "    \"location_lat_retiro\": tripsofstation[i]['location_lat_retiro'],\n",
    "    \"location_lon_retiro\": tripsofstation[i]['location_lon_retiro'],\n",
    "    \"location_lat_arribo\": tripsofstation[i]['location_lat_arribo'],\n",
    "    \"location_lon_arribo\": tripsofstation[i]['location_lon_arribo'],\n",
    "}  for i in range(len(tripsofstation))]\n",
    "\n",
    "with open(\"./app/topstation1.json\", \"w\") as outfile:\n",
    "    json.dump(topStationDict, outfile)"
   ],
   "outputs": [],
   "metadata": {}
  }
 ],
 "metadata": {
  "orig_nbformat": 4,
  "language_info": {
   "name": "python",
   "version": "3.7.9",
   "mimetype": "text/x-python",
   "codemirror_mode": {
    "name": "ipython",
    "version": 3
   },
   "pygments_lexer": "ipython3",
   "nbconvert_exporter": "python",
   "file_extension": ".py"
  },
  "kernelspec": {
   "name": "python3",
   "display_name": "Python 3.7.9 64-bit ('env': venv)"
  },
  "interpreter": {
   "hash": "166e22c84637cf51f235873a2d780a99c2ec1350eac62abd1f2138f600ac821b"
  }
 },
 "nbformat": 4,
 "nbformat_minor": 2
}