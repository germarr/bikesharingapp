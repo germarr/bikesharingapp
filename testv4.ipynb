{
 "cells": [
  {
   "cell_type": "code",
   "execution_count": 67,
   "source": [
    "import pandas as pd\n",
    "import numpy as np\n",
    "import psycopg2\n",
    "import psycopg2.extras"
   ],
   "outputs": [],
   "metadata": {}
  },
  {
   "cell_type": "code",
   "execution_count": 49,
   "source": [
    "df = pd.read_csv(\"./ecobicidata/ecobici_mar_resume.csv\")\n",
    "name_of_files = [\"jan\",\"feb\",\"mar\",\"apr\",\"may\",\"jun\",\"jul\"]\n",
    "fulldf = pd.concat([pd.read_csv(f\"./ecobicidata/ecobici_{x}.csv\") for i,x in enumerate(name_of_files)])"
   ],
   "outputs": [],
   "metadata": {}
  },
  {
   "cell_type": "code",
   "execution_count": 50,
   "source": [
    "def transform_df(ene = fulldf):\n",
    "    ene[\"full_date_retiro\"] = pd.to_datetime(ene[\"Fecha_Retiro\"] + \" \" + ene[\"Hora_Retiro\"], format=\"%d/%m/%Y %H:%M:%S\").copy()\n",
    "    ene[\"full_date_aribo\"] = pd.to_datetime(ene[\"Fecha_Arribo\"] + \" \" + ene[\"Hora_Arribo\"], format=\"%d/%m/%Y %H:%M:%S\").copy()\n",
    "    ene[\"Mes\"] = ene[\"full_date_retiro\"].dt.month\n",
    "    ene[\"Hora\"] = ene[\"full_date_retiro\"].dt.hour\n",
    "    ene[\"time_delta\"] = round((ene[\"full_date_aribo\"]  - ene[\"full_date_retiro\"]) / np.timedelta64(1,\"m\"),2)\n",
    "    ene[\"Ciclo_Estacion_Retiro\"]= ene[[\"Ciclo_Estacion_Retiro\"]].astype(str)\n",
    "    ene[\"Ciclo_Estacion_Retiro\"] = [i[:-2] for i in ene[\"Ciclo_Estacion_Retiro\"]]\n",
    "    ene[\"Bici\"]= ene[[\"Bici\"]].astype(str)\n",
    "    ene[\"Bici\"] = [i[:-2] for i in ene[\"Bici\"]]\n",
    "    ene[\"viaje\"] = ene[\"Ciclo_Estacion_Retiro\"].astype(str)+\"-\"+ene[\"Ciclo_EstacionArribo\"].astype(str)\n",
    "    ene[\"Genero_Usuario\"] = ene[\"Genero_Usuario\"].fillna(\"X\")\n",
    "    ene = ene.dropna(axis=0).copy()\n",
    "    return ene.iloc[:,[0,1,2,3,6,9,10,11,12,13,14]].sample(352301)\n",
    "\n",
    "df = transform_df()"
   ],
   "outputs": [],
   "metadata": {}
  },
  {
   "cell_type": "code",
   "execution_count": null,
   "source": [
    "df.to_csv(\"./ecobicidata/all_year.csv\")"
   ],
   "outputs": [],
   "metadata": {}
  },
  {
   "cell_type": "markdown",
   "source": [
    "## Trips per Month"
   ],
   "metadata": {}
  },
  {
   "cell_type": "code",
   "execution_count": 52,
   "source": [
    "tripsperMonth = df[[\"Mes\"]].groupby(\"Mes\").size().reset_index()"
   ],
   "outputs": [],
   "metadata": {}
  },
  {
   "cell_type": "code",
   "execution_count": 53,
   "source": [
    "tripsperMonth"
   ],
   "outputs": [
    {
     "output_type": "execute_result",
     "data": {
      "text/plain": [
       "    Mes      0\n",
       "0   1.0  38509\n",
       "1   2.0  43678\n",
       "2   3.0  52770\n",
       "3   4.0  52764\n",
       "4   5.0  56657\n",
       "5   6.0  55012\n",
       "6   7.0  52903\n",
       "7  12.0      8"
      ],
      "text/html": [
       "<div>\n",
       "<style scoped>\n",
       "    .dataframe tbody tr th:only-of-type {\n",
       "        vertical-align: middle;\n",
       "    }\n",
       "\n",
       "    .dataframe tbody tr th {\n",
       "        vertical-align: top;\n",
       "    }\n",
       "\n",
       "    .dataframe thead th {\n",
       "        text-align: right;\n",
       "    }\n",
       "</style>\n",
       "<table border=\"1\" class=\"dataframe\">\n",
       "  <thead>\n",
       "    <tr style=\"text-align: right;\">\n",
       "      <th></th>\n",
       "      <th>Mes</th>\n",
       "      <th>0</th>\n",
       "    </tr>\n",
       "  </thead>\n",
       "  <tbody>\n",
       "    <tr>\n",
       "      <th>0</th>\n",
       "      <td>1.0</td>\n",
       "      <td>38509</td>\n",
       "    </tr>\n",
       "    <tr>\n",
       "      <th>1</th>\n",
       "      <td>2.0</td>\n",
       "      <td>43678</td>\n",
       "    </tr>\n",
       "    <tr>\n",
       "      <th>2</th>\n",
       "      <td>3.0</td>\n",
       "      <td>52770</td>\n",
       "    </tr>\n",
       "    <tr>\n",
       "      <th>3</th>\n",
       "      <td>4.0</td>\n",
       "      <td>52764</td>\n",
       "    </tr>\n",
       "    <tr>\n",
       "      <th>4</th>\n",
       "      <td>5.0</td>\n",
       "      <td>56657</td>\n",
       "    </tr>\n",
       "    <tr>\n",
       "      <th>5</th>\n",
       "      <td>6.0</td>\n",
       "      <td>55012</td>\n",
       "    </tr>\n",
       "    <tr>\n",
       "      <th>6</th>\n",
       "      <td>7.0</td>\n",
       "      <td>52903</td>\n",
       "    </tr>\n",
       "    <tr>\n",
       "      <th>7</th>\n",
       "      <td>12.0</td>\n",
       "      <td>8</td>\n",
       "    </tr>\n",
       "  </tbody>\n",
       "</table>\n",
       "</div>"
      ]
     },
     "metadata": {},
     "execution_count": 53
    }
   ],
   "metadata": {}
  },
  {
   "cell_type": "markdown",
   "source": [
    "## Most Popular Route"
   ],
   "metadata": {}
  },
  {
   "cell_type": "code",
   "execution_count": 42,
   "source": [
    "# df[[\"viaje\",\"Mes\"]].groupby([\"Mes\",\"viaje\"]).size().reset_index().sort_values(by=0, ascending=False).pivot_table(columns=\"Mes\",index=\"viaje\", values=0, aggfunc=\"sum\").sort_values(by=7, ascending=False).reset_index().head(100).fillna(0.0)"
   ],
   "outputs": [],
   "metadata": {}
  },
  {
   "cell_type": "code",
   "execution_count": 51,
   "source": [
    "l = df[[\"viaje\"]].groupby(\"viaje\").size().reset_index().sort_values(by=0, ascending=False)"
   ],
   "outputs": [
    {
     "output_type": "execute_result",
     "data": {
      "text/plain": [
       "         viaje    0\n",
       "54987  391-391  720\n",
       "45327    33-33  304\n",
       "31234  257-257  286\n",
       "62516  449-449  248\n",
       "31836  260-260  214\n",
       "...        ...  ...\n",
       "39759   30-233    1\n",
       "39762   30-249    1\n",
       "39773    30-26    1\n",
       "39774   30-261    1\n",
       "39392  299-404    1\n",
       "\n",
       "[78784 rows x 2 columns]"
      ],
      "text/html": [
       "<div>\n",
       "<style scoped>\n",
       "    .dataframe tbody tr th:only-of-type {\n",
       "        vertical-align: middle;\n",
       "    }\n",
       "\n",
       "    .dataframe tbody tr th {\n",
       "        vertical-align: top;\n",
       "    }\n",
       "\n",
       "    .dataframe thead th {\n",
       "        text-align: right;\n",
       "    }\n",
       "</style>\n",
       "<table border=\"1\" class=\"dataframe\">\n",
       "  <thead>\n",
       "    <tr style=\"text-align: right;\">\n",
       "      <th></th>\n",
       "      <th>viaje</th>\n",
       "      <th>0</th>\n",
       "    </tr>\n",
       "  </thead>\n",
       "  <tbody>\n",
       "    <tr>\n",
       "      <th>54987</th>\n",
       "      <td>391-391</td>\n",
       "      <td>720</td>\n",
       "    </tr>\n",
       "    <tr>\n",
       "      <th>45327</th>\n",
       "      <td>33-33</td>\n",
       "      <td>304</td>\n",
       "    </tr>\n",
       "    <tr>\n",
       "      <th>31234</th>\n",
       "      <td>257-257</td>\n",
       "      <td>286</td>\n",
       "    </tr>\n",
       "    <tr>\n",
       "      <th>62516</th>\n",
       "      <td>449-449</td>\n",
       "      <td>248</td>\n",
       "    </tr>\n",
       "    <tr>\n",
       "      <th>31836</th>\n",
       "      <td>260-260</td>\n",
       "      <td>214</td>\n",
       "    </tr>\n",
       "    <tr>\n",
       "      <th>...</th>\n",
       "      <td>...</td>\n",
       "      <td>...</td>\n",
       "    </tr>\n",
       "    <tr>\n",
       "      <th>39759</th>\n",
       "      <td>30-233</td>\n",
       "      <td>1</td>\n",
       "    </tr>\n",
       "    <tr>\n",
       "      <th>39762</th>\n",
       "      <td>30-249</td>\n",
       "      <td>1</td>\n",
       "    </tr>\n",
       "    <tr>\n",
       "      <th>39773</th>\n",
       "      <td>30-26</td>\n",
       "      <td>1</td>\n",
       "    </tr>\n",
       "    <tr>\n",
       "      <th>39774</th>\n",
       "      <td>30-261</td>\n",
       "      <td>1</td>\n",
       "    </tr>\n",
       "    <tr>\n",
       "      <th>39392</th>\n",
       "      <td>299-404</td>\n",
       "      <td>1</td>\n",
       "    </tr>\n",
       "  </tbody>\n",
       "</table>\n",
       "<p>78784 rows × 2 columns</p>\n",
       "</div>"
      ]
     },
     "metadata": {},
     "execution_count": 51
    }
   ],
   "metadata": {}
  },
  {
   "cell_type": "code",
   "execution_count": 92,
   "source": [
    "estaciones = pd.read_csv(\"./ecobicidata/estaciones-de-ecobici.csv\",index_col=0).iloc[:,[0,1,3,4,5,8,9,10]]\n",
    "estaciones[\"stationtype\"] = [i.replace(\",\",\"\") for i in estaciones[\"stationtype\"].to_list()]\n",
    "estaciones[\"zipcode\"] = estaciones[\"zipcode\"].fillna(\"0.0\")\n",
    "estaciones = estaciones.to_csv(\"./ecobicidata/estaciones_ecobici.csv\")"
   ],
   "outputs": [],
   "metadata": {}
  },
  {
   "cell_type": "code",
   "execution_count": 96,
   "source": [
    "dconnector=\"host=34.66.221.94 port=5432 dbname=ecobici user=postgres password=password\"\n",
    "nameOfTheFile = \"estaciones_ecobici\"\n",
    "\n",
    "def new_ecobici_table(nf, dbConnection):\n",
    "    conn = psycopg2.connect(dbConnection)\n",
    "    cur = conn.cursor()\n",
    "    cur.execute(f\"\"\"\n",
    "        CREATE TABLE {nf}(\n",
    "            id NUMERIC PRIMARY KEY,\n",
    "            name text,\n",
    "            address  text,\n",
    "            zipcode float(6),\n",
    "            districtcode VARCHAR(6),\n",
    "            districtname text,\n",
    "            location_lat float(8),\n",
    "            location_lon float(8),\n",
    "            stationtype text\n",
    "        )\n",
    "        \"\"\")\n",
    "\n",
    "    conn.commit()\n",
    "    print(\"Table Created.\")\n",
    "\n",
    "new_ecobici_table(nf=nameOfTheFile, dbConnection=dconnector)"
   ],
   "outputs": [
    {
     "output_type": "stream",
     "name": "stdout",
     "text": [
      "Table Created.\n"
     ]
    }
   ],
   "metadata": {}
  },
  {
   "cell_type": "code",
   "execution_count": 97,
   "source": [
    "def push_data_to_table(datefile,dbConnection):\n",
    "    conn = psycopg2.connect(dbConnection)\n",
    "    cur = conn.cursor()\n",
    "    with open(f'./ecobicidata/{datefile}.csv', 'r', encoding=\"utf8\") as f:\n",
    "        # Notice that we don't need the `csv` module.\n",
    "        next(f) # Skip the header row.\n",
    "        cur.copy_from(f, f'{datefile}', sep=',')\n",
    "\n",
    "    conn.commit()\n",
    "\n",
    "push_data_to_table(datefile=nameOfTheFile,dbConnection=dconnector)"
   ],
   "outputs": [],
   "metadata": {}
  },
  {
   "cell_type": "code",
   "execution_count": null,
   "source": [],
   "outputs": [],
   "metadata": {}
  }
 ],
 "metadata": {
  "orig_nbformat": 4,
  "language_info": {
   "name": "python",
   "version": "3.7.9",
   "mimetype": "text/x-python",
   "codemirror_mode": {
    "name": "ipython",
    "version": 3
   },
   "pygments_lexer": "ipython3",
   "nbconvert_exporter": "python",
   "file_extension": ".py"
  },
  "kernelspec": {
   "name": "python3",
   "display_name": "Python 3.7.9 64-bit ('env': venv)"
  },
  "interpreter": {
   "hash": "166e22c84637cf51f235873a2d780a99c2ec1350eac62abd1f2138f600ac821b"
  }
 },
 "nbformat": 4,
 "nbformat_minor": 2
}