{
 "cells": [
  {
   "cell_type": "code",
   "execution_count": 2,
   "source": [
    "import psycopg2\n",
    "import psycopg2.extras\n",
    "import csv\n",
    "import pandas as pd\n",
    "from datetime import datetime, timedelta\n",
    "import json"
   ],
   "outputs": [],
   "metadata": {}
  },
  {
   "cell_type": "code",
   "execution_count": 4,
   "source": [
    "dconnector=\"host=34.66.221.94 port=5432 dbname=ecobici user=postgres password=password\"\n",
    "nameOfTheFile = \"ecobici_may\""
   ],
   "outputs": [],
   "metadata": {}
  },
  {
   "cell_type": "code",
   "execution_count": 4,
   "source": [
    "def data_to_dict(q):\n",
    "    conn = psycopg2.connect(dconnector)\n",
    "    cur = conn.cursor(cursor_factory = psycopg2.extras.RealDictCursor)\n",
    "    cur.execute(q)\n",
    "    fulldf = cur.fetchall()\n",
    "    df=[{\n",
    "        \"id\":int(i[\"id\"]),\n",
    "        \"genero_usuario\":str(i['genero_usuario']),\n",
    "        \"edad_usuario\":float(i[\"edad_usuario\"]),\n",
    "        \"bici\":str(i['bici']),\n",
    "        \"ciclo_estacion_retiro\":int(i['ciclo_estacion_retiro']),\n",
    "        \"ciclo_estacion_arribo\":int(i['ciclo_estacionarribo']),\n",
    "        \"full_date_retiro\":str(i['ciclo_estacionarribo']),\n",
    "        \"full_date_arribo\":str(i['full_date_aribo']),\n",
    "        \"mes\":int(i['mes']),\n",
    "        \"hora\":int(i[\"hora\"]),\n",
    "        \"time_delta\":float(i[\"time_delta\"]),\n",
    "        \"viaje\":str(i[\"viaje\"]),\n",
    "        \"name_retiro\":str(i[\"name_retiro\"]),\n",
    "        \"location_lat_retiro\":float(i[\"location_lat_retiro\"]),\n",
    "        \"location_lon_retiro\":float(i[\"location_lon_retiro\"]),\n",
    "        \"name_arribo\":str(i[\"name_arribo\"]),\n",
    "        \"location_lat_arribo\":float(i[\"location_lat_arribo\"]),\n",
    "        \"location_lon_arribo\":float(i[\"location_lon_arribo\"]),\n",
    "        \"location_dist\":round(float(i[\"location_dist\"]),2)\n",
    "    } for i in fulldf]\n",
    "    dfII = [df[i] for i,x in enumerate(df)]\n",
    "    return dfII\n",
    "\n",
    "d = data_to_dict(q=f\"select * from {nameOfTheFile} limit 5\")"
   ],
   "outputs": [],
   "metadata": {}
  },
  {
   "cell_type": "code",
   "execution_count": 5,
   "source": [
    "trips_query = \"\"\"\n",
    "SELECT \n",
    "\tfull_date_retiro, COUNT(*) as viajes_totales \n",
    "FROM \n",
    "\tpublic.ecobici_may \n",
    "WHERE \n",
    "\tfull_date_retiro >= '2021-07-01'\n",
    "group by \n",
    "\tfull_date_retiro \n",
    "order by \n",
    "\tfull_date_retiro\n",
    "\"\"\"\n",
    "\n",
    "def total_trips_per_day(q):\n",
    "    conn = psycopg2.connect(dconnector)\n",
    "    cur = conn.cursor(cursor_factory = psycopg2.extras.RealDictCursor)\n",
    "    cur.execute(q)\n",
    "    fulldf = cur.fetchall()\n",
    "    listOfDates=[i[\"full_date_retiro\"] for i in fulldf]\n",
    "    listOfTrips = [int(i[\"viajes_totales\"]) for i in fulldf]\n",
    "    \n",
    "    tripsChart= {\n",
    "        \"listOfDates\":listOfDates,\n",
    "        \"listOfTrips\":listOfTrips\n",
    "    }\n",
    "\n",
    "    return tripsChart\n",
    "\n",
    "c = total_trips_per_day(q=trips_query)"
   ],
   "outputs": [],
   "metadata": {}
  },
  {
   "cell_type": "code",
   "execution_count": 17,
   "source": [
    "def gender_trips(fileName=\"ecobici_may\"):\n",
    "    q= f\"\"\"\n",
    "        SELECT \n",
    "            genero_usuario, COUNT(*) as pct\n",
    "        FROM \n",
    "            public.{fileName} \n",
    "        WHERE \n",
    "            full_date_retiro >= '2021-07-01'\n",
    "        GROUP BY genero_usuario\n",
    "        \"\"\"\n",
    "    conn = psycopg2.connect(dconnector)\n",
    "    cur = conn.cursor(cursor_factory = psycopg2.extras.RealDictCursor)\n",
    "    cur.execute(q)\n",
    "    fulldf = cur.fetchall()\n",
    "    listOfDates=[str(i[\"genero_usuario\"]) for i in fulldf]\n",
    "    listOfTrips = [int(i[\"pct\"]) for i in fulldf]\n",
    "\n",
    "    total = 0\n",
    "    list1 = listOfTrips\n",
    "    \n",
    "    # Iterate each element in list\n",
    "    # and add them in variable total\n",
    "    for ele in range(0, len(list1)):\n",
    "        total = total + list1[ele]\n",
    "    \n",
    "    get_pct = [round((i/total)*100) for i in listOfTrips]\n",
    "    \n",
    "    genderChart= {\n",
    "        \"genero\":listOfDates,\n",
    "        \"tripsGender\":get_pct\n",
    "    }\n",
    "    \n",
    "    return genderChart\n",
    "\n",
    "l = gender_trips()"
   ],
   "outputs": [],
   "metadata": {}
  },
  {
   "cell_type": "code",
   "execution_count": 18,
   "source": [
    "l"
   ],
   "outputs": [
    {
     "output_type": "execute_result",
     "data": {
      "text/plain": [
       "{'genero': ['X', 'M', 'F'], 'tripsGender': [5, 68, 27]}"
      ]
     },
     "metadata": {},
     "execution_count": 18
    }
   ],
   "metadata": {}
  }
 ],
 "metadata": {
  "orig_nbformat": 4,
  "language_info": {
   "name": "python",
   "version": "3.7.9",
   "mimetype": "text/x-python",
   "codemirror_mode": {
    "name": "ipython",
    "version": 3
   },
   "pygments_lexer": "ipython3",
   "nbconvert_exporter": "python",
   "file_extension": ".py"
  },
  "kernelspec": {
   "name": "python3",
   "display_name": "Python 3.7.9 64-bit ('env': venv)"
  },
  "interpreter": {
   "hash": "166e22c84637cf51f235873a2d780a99c2ec1350eac62abd1f2138f600ac821b"
  }
 },
 "nbformat": 4,
 "nbformat_minor": 2
}