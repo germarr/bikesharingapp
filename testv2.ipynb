{
 "cells": [
  {
   "cell_type": "code",
   "execution_count": 21,
   "source": [
    "import pandas as pd\n",
    "import numpy as np\n",
    "import geopy.distance\n",
    "import psycopg2\n",
    "import psycopg2.extras\n",
    "import csv\n",
    "from datetime import datetime, timedelta\n",
    "import json"
   ],
   "outputs": [],
   "metadata": {}
  },
  {
   "cell_type": "code",
   "execution_count": 22,
   "source": [
    "def new_ecobici_table(date, dbConnection):\n",
    "    conn = psycopg2.connect(dbConnection)\n",
    "    cur = conn.cursor()\n",
    "    cur.execute(f\"\"\"\n",
    "        CREATE TABLE {date}(\n",
    "            id SERIAL PRIMARY KEY,\n",
    "            Genero_Usuario text,\n",
    "            Edad_Usuario  NUMERIC(4,2),\n",
    "            Bici VARCHAR(6),\n",
    "            Ciclo_Estacion_Retiro VARCHAR(4),\n",
    "            Ciclo_EstacionArribo VARCHAR(4),\n",
    "            full_date_retiro date,\n",
    "            full_date_aribo date,\n",
    "            Mes VARCHAR(4),\n",
    "            Hora VARCHAR(4),\n",
    "            time_delta VARCHAR(10),\n",
    "            viaje VARCHAR(9),\n",
    "            name_retiro TEXT,\n",
    "            location_lat_retiro float(8),\n",
    "            location_lon_retiro float(8),\n",
    "            name_arribo TEXT,\n",
    "            location_lat_arribo float(8),\n",
    "            location_lon_arribo float(8),\n",
    "            location_dist NUMERIC\n",
    "        )\n",
    "        \"\"\")\n",
    "\n",
    "    conn.commit()\n",
    "\n",
    "#new_ecobici_table(date=fileName, dbConnection=dbC)"
   ],
   "outputs": [],
   "metadata": {}
  },
  {
   "cell_type": "code",
   "execution_count": 23,
   "source": [
    "#monthdf=pd.read_csv('./ecobicidata/2021-06.csv').sample(20000)"
   ],
   "outputs": [],
   "metadata": {}
  },
  {
   "cell_type": "code",
   "execution_count": 24,
   "source": [
    "def transform_df(ene):\n",
    "    ene[\"full_date_retiro\"] = pd.to_datetime(ene[\"Fecha_Retiro\"] + \" \" + ene[\"Hora_Retiro\"], format=\"%d/%m/%Y %H:%M:%S\").copy()\n",
    "    ene[\"full_date_aribo\"] = pd.to_datetime(ene[\"Fecha Arribo\"] + \" \" + ene[\"Hora_Arribo\"], format=\"%d/%m/%Y %H:%M:%S\").copy()\n",
    "    ene[\"Mes\"] = ene[\"full_date_retiro\"].dt.month\n",
    "    ene[\"Hora\"] = ene[\"full_date_retiro\"].dt.hour\n",
    "    ene[\"time_delta\"] = round((ene[\"full_date_aribo\"]  - ene[\"full_date_retiro\"]) / np.timedelta64(1,\"m\"),2)\n",
    "    ene[\"Ciclo_Estacion_Retiro\"]= ene[[\"Ciclo_Estacion_Retiro\"]].astype(str)\n",
    "    ene[\"Ciclo_Estacion_Retiro\"] = [i[:-2] for i in ene[\"Ciclo_Estacion_Retiro\"]]\n",
    "    ene[\"Bici\"]= ene[[\"Bici\"]].astype(str)\n",
    "    ene[\"Bici\"] = [i[:-2] for i in ene[\"Bici\"]]\n",
    "    ene[\"viaje\"] = ene[\"Ciclo_Estacion_Retiro\"].astype(str)+\"-\"+ene[\"Ciclo_EstacionArribo\"].astype(str)\n",
    "    return ene.iloc[:,[0,1,2,3,6,9,10,11,12,13,14]]\n",
    "\n",
    "#df = transform_df(ene=monthdf)"
   ],
   "outputs": [],
   "metadata": {}
  },
  {
   "cell_type": "code",
   "execution_count": 25,
   "source": [
    "def estaciones_df():\n",
    "    estaciones = pd.read_csv(\"./ecobicidata/estaciones-de-ecobici.csv\")[[\"id\",\"name\",\"districtcode\",\"districtname\",\"location_lat\",\"location_lon\",\"stationtype\",\"punto_geo\"]]\n",
    "    estaciones[\"Ciclo_Estacion_Retiro\"] = estaciones[\"id\"].astype(str).copy()\n",
    "    estaciones[\"Ciclo_EstacionArribo\"] = estaciones[\"id\"].copy()\n",
    "    estaciones_retiro = estaciones.iloc[:,[-2,1,2,3,4,5,6,7]].rename(columns={\"name\":\"name_retiro\",\"districtcode\":\"districtcode_retiro\",\"districtname\":\"districtname_retiro\",\"location_lat\":\"location_lat_retiro\",\"location_lon\":\"location_lon_retiro\",\"stationtype\":\"stationtype_retiro\",\"punto_geo\":\"punto_geo_retiro\"}).copy().iloc[:,[0,1,4,5,7]]\n",
    "    estaciones_arribo = estaciones.iloc[:,[-1,1,2,3,4,5,6,7]].rename(columns={\"name\":\"name_arribo\",\"districtcode\":\"districtcode_arribo\",\"districtname\":\"districtname_arribo\",\"location_lat\":\"location_lat_arribo\",\"location_lon\":\"location_lon_arribo\",\"stationtype\":\"stationtype_arribo\",\"punto_geo\":\"punto_geo_arribo\"}).copy().iloc[:,[0,1,4,5,7]]\n",
    "    return estaciones_retiro, estaciones_arribo\n",
    "\n",
    "#estaciones_retiro, estaciones_arribo = estaciones_df()"
   ],
   "outputs": [],
   "metadata": {}
  },
  {
   "cell_type": "code",
   "execution_count": 26,
   "source": [
    "def mergingfiles(month, er, ea):\n",
    "    first = month.merge(er, on=\"Ciclo_Estacion_Retiro\", how=\"left\").merge(ea, on=\"Ciclo_EstacionArribo\", how=\"left\")\n",
    "    return first\n",
    "\n",
    "#exportfile = mergingfiles(month=df, er=estaciones_retiro, ea=estaciones_arribo)"
   ],
   "outputs": [],
   "metadata": {}
  },
  {
   "cell_type": "code",
   "execution_count": 27,
   "source": [
    "def filetoexport(first, nameOfFile):\n",
    "    location_lat_retiro = first[\"location_lat_retiro\"].fillna('19.412182').to_list()\n",
    "    location_lon_retiro = first[\"location_lon_retiro\"].fillna('19.412182').to_list()\n",
    "    location_lat_arribo = first[\"location_lat_arribo\"].fillna('19.412182').to_list()\n",
    "    location_lon_arribo = first[\"location_lon_arribo\"].fillna('19.412182').to_list()\n",
    "\n",
    "    distances = pd.DataFrame({\"location_dist\":[geopy.distance.distance((location_lat_retiro[i],location_lon_retiro[i]), (location_lat_arribo[i],location_lon_arribo[i])).km for i in range(len(location_lon_arribo))]})\n",
    "    \n",
    "    l = pd.concat([first, distances], axis=1, join=\"inner\").iloc[:,[0,1,2,3,4,5,6,7,8,9,10,11,12,13,15,16,17,19]]\n",
    "    l[\"Genero_Usuario\"] = l[\"Genero_Usuario\"].fillna(\"X\")\n",
    "    l.to_csv(f'./ecobicidata/{nameOfFile}_resume.csv')\n",
    "    return l\n",
    "# = filetoexport(first=exportfile, nameOfFile=\"testfilejune\")"
   ],
   "outputs": [],
   "metadata": {}
  },
  {
   "cell_type": "code",
   "execution_count": 28,
   "source": [
    "def push_data_to_table(datefile):\n",
    "    conn = psycopg2.connect(\"host=34.66.221.94 port=5432 dbname=ecobici user=postgres password=password\")\n",
    "    cur = conn.cursor()\n",
    "    with open(f'./ecobicidata/{datefile}_resume.csv', 'r', encoding=\"utf8\") as f:\n",
    "        # Notice that we don't need the `csv` module.\n",
    "        next(f) # Skip the header row.\n",
    "        cur.copy_from(f, f'{datefile}', sep=',')\n",
    "\n",
    "    conn.commit()\n"
   ],
   "outputs": [],
   "metadata": {}
  },
  {
   "cell_type": "code",
   "execution_count": 29,
   "source": [
    "def mainI(dbC, fileName):\n",
    "    new_ecobici_table(date=fileName, dbConnection=dbC)\n",
    "    print(\"Table Created!\")\n",
    "\n",
    "    monthdf=pd.read_csv(f'./ecobicidata/{fileName}.csv').sample(20000)\n",
    "    df = transform_df(ene=monthdf)\n",
    "    estaciones_retiro, estaciones_arribo = estaciones_df()\n",
    "    exportfile = mergingfiles(month=df, er=estaciones_retiro, ea=estaciones_arribo)\n",
    "    l = filetoexport(first=exportfile, nameOfFile=fileName)\n",
    "    print(\"File Adjusted!\")\n",
    "\n",
    "    push_data_to_table(datefile=fileName)\n",
    "    print(\"Data Added to Table!\")\n"
   ],
   "outputs": [],
   "metadata": {}
  },
  {
   "cell_type": "code",
   "execution_count": 30,
   "source": [
    "dconnector=\"host=34.66.221.94 port=5432 dbname=ecobici user=postgres password=password\"\n",
    "nameOfTheFile = \"ecobici_may\"\n",
    "mainI(dbC=dconnector,fileName=nameOfTheFile)"
   ],
   "outputs": [
    {
     "output_type": "stream",
     "name": "stdout",
     "text": [
      "Table Created!\n",
      "Table Created!\n",
      "File Adjusted!\n",
      "Data Added to Table!\n"
     ]
    }
   ],
   "metadata": {}
  }
 ],
 "metadata": {
  "orig_nbformat": 4,
  "language_info": {
   "name": "python",
   "version": "3.7.9",
   "mimetype": "text/x-python",
   "codemirror_mode": {
    "name": "ipython",
    "version": 3
   },
   "pygments_lexer": "ipython3",
   "nbconvert_exporter": "python",
   "file_extension": ".py"
  },
  "kernelspec": {
   "name": "python3",
   "display_name": "Python 3.7.9 64-bit ('env': venv)"
  },
  "interpreter": {
   "hash": "166e22c84637cf51f235873a2d780a99c2ec1350eac62abd1f2138f600ac821b"
  }
 },
 "nbformat": 4,
 "nbformat_minor": 2
}